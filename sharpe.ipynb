{
  "cells": [
    {
      "cell_type": "code",
      "execution_count": 12,
      "metadata": {
        "id": "Ixpcpe11O9fb"
      },
      "outputs": [],
      "source": [
        "import numpy as np\n",
        "import math\n",
        "from scipy.optimize import minimize\n",
        "stocks = [\"ITC\" , \"HDFC\", \"ICICI\"]\n",
        "# rb = 0.0002 below given data r refers to excess return calculated for each company\n",
        "r = [0.00014 , 0.0006531 , 0.000747]\n",
        "sig = [0.02466 , 0.02611 , 0.03000 ]\n",
        "# r = excess return , sig = std deviation \n",
        "\n"
      ]
    },
    {
      "cell_type": "code",
      "execution_count": 13,
      "metadata": {
        "id": "PmoaysswK6AO"
      },
      "outputs": [],
      "source": [
        "def obj_fun(x):\n",
        "  x1 = x[0]\n",
        "  x2 = x[1]\n",
        "  x3 = x[2]\n",
        "  # new returns = x * r ( distribution of returns in terms of weightage )\n",
        "  # new std deviation per stock = std deviation * coeff(x1,x2,x3 etc).  net std deviation is the square root of sums of squares of all new std deviations\n",
        "  return math.sqrt((x1**2)*(sig[0]**2) + (x2**2)*(sig[1]**2) + (x3**2)*(sig[2]**2))/(x1*r[0] + x2*r[1] + x3*r[2])\n"
      ]
    },
    {
      "cell_type": "code",
      "execution_count": 14,
      "metadata": {
        "id": "Kw4OgqfRLvjU"
      },
      "outputs": [],
      "source": [
        "def equality_cons(x):\n",
        "  x1 = x[0]\n",
        "  x2 = x[1]\n",
        "  x3 = x[2]\n",
        "  return x1 + x2 + x3 - 1\n"
      ]
    },
    {
      "cell_type": "code",
      "execution_count": 15,
      "metadata": {
        "id": "tjeBEg81MM5t"
      },
      "outputs": [],
      "source": [
        "bound_x1 = (0.3 , 0.4)\n",
        "bound_x2 = (0.3 , 0.4) \n",
        "bound_x3 = (0.3 , 0.4)\n",
        "\n",
        "bounds = [ bound_x1 , bound_x2 , bound_x3 ]\n",
        "\n",
        "constraint1 = { 'type' : 'eq' , 'fun' : equality_cons }\n",
        "\n",
        "constraint = [ constraint1 ]\n",
        "\n",
        "x0 = [ 0.33 , 0.33 , 0.34]"
      ]
    },
    {
      "cell_type": "code",
      "execution_count": 17,
      "metadata": {
        "colab": {
          "base_uri": "https://localhost:8080/"
        },
        "id": "9PL7ntOmNk-z",
        "outputId": "32d5cbd1-4d0a-4a85-c0e3-d18e48a62c44"
      },
      "outputs": [
        {
          "output_type": "stream",
          "name": "stdout",
          "text": [
            "     fun: 29.58854728253569\n",
            "     jac: array([14.12812328, -6.05486751, -6.05495691])\n",
            " message: 'Optimization terminated successfully'\n",
            "    nfev: 20\n",
            "     nit: 5\n",
            "    njev: 5\n",
            "  status: 0\n",
            " success: True\n",
            "       x: array([0.3       , 0.37074767, 0.32925233])\n"
          ]
        }
      ],
      "source": [
        "result = minimize(obj_fun , x0 , method='SLSQP' , bounds=bounds , constraints=constraint)\n",
        "print(result)"
      ]
    }
  ],
  "metadata": {
    "colab": {
      "provenance": [],
      "collapsed_sections": []
    },
    "kernelspec": {
      "display_name": "Python 3",
      "name": "python3"
    },
    "language_info": {
      "name": "python"
    }
  },
  "nbformat": 4,
  "nbformat_minor": 0
}