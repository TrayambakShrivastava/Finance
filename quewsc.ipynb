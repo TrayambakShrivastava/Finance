{
 "cells": [
  {
   "cell_type": "code",
   "execution_count": 1,
   "id": "ee4396b6-635e-4c2c-a33f-9c71f7b0f9f2",
   "metadata": {},
   "outputs": [
    {
     "name": "stdout",
     "output_type": "stream",
     "text": [
      "\n",
      "\n",
      "for 10\n",
      "expectation per toss=  1.25 variance per toss =  0.5625\n",
      "expected value =  12.5\n",
      "\n",
      "\n",
      "for 20\n",
      "expectation per toss=  1.25 variance per toss =  0.5625\n",
      "expected value =  25.0\n",
      "\n",
      "\n",
      "for 400\n",
      "expectation per toss=  1.26125 variance per toss =  0.5623734374999998\n",
      "expected value =  504.5\n",
      "\n",
      "\n",
      "for 10000\n",
      "expectation per toss=  1.2567499999999998 variance per toss =  0.5624544375000002\n",
      "expected value =  12567.499999999998\n",
      "\n",
      "\n",
      "for 100000\n",
      "expectation per toss=  1.25135 variance per toss =  0.5624981775000002\n",
      "expected value =  125135.0\n"
     ]
    }
   ],
   "source": [
    "import random\n",
    "import math\n",
    "from statistics import variance\n",
    "def toss_the_coin_expectation(n_simulations):\n",
    "\tcount_head = 0\n",
    "\n",
    "\tfor i in range(n_simulations):\n",
    "\t\t# discrete rv x heads= 1 tails = 2 \n",
    "\t\tcoin_value = random.randint(1,2)\n",
    "\t\tif coin_value == 1:\n",
    "\t\t\tcount_head = count_head + 1\n",
    "\tcount_tail = n_simulations - count_head\n",
    "\tprob_head = count_head/n_simulations\n",
    "\tprob_tail = count_tail/n_simulations\n",
    "\t# defining a function for money at the end H(x) in which H(1) = 2 (i.e person ends with 2$ if heads) and H(2) = 0.5 $ and computing E(H(x)) and E(H(x)^2)  \n",
    "\texpected_value = prob_head*2 + prob_tail*(0.5) \n",
    "\texpected_of_value_squared = prob_head*4 + prob_tail*(0.25)\n",
    "\texpected_gain = prob_head*1 + prob_tail*(-0.5)\n",
    "\t#V(H(x)) = E(H(x))^2 - E(H(X)^2)\n",
    "\tvariance = expected_of_value_squared - (expected_value*expected_value)\n",
    "\tprint(\"expectation per toss= \" , expected_value , \"variance per toss = \" , variance )\n",
    "\treturn expected_value\n",
    "\n",
    "    #for all calculations below the event is assumed to be flipping the coin just once\n",
    "\n",
    "\n",
    "\n",
    "n = [10 , 20 , 400 , 10000 , 100000]\n",
    "for i in range(5):\n",
    "\tprint(\"\\n\")\n",
    "\tprint(\"for\" , n[i] )\n",
    "\tevaluepertoss = toss_the_coin_expectation(int(n[i]))\n",
    "\tprint(\"expected value = \" , evaluepertoss*int(n[i]))\n",
    "\n"
   ]
  },
  {
   "cell_type": "code",
   "execution_count": null,
   "id": "41c2d8f8-d15d-4918-a105-1298033b8182",
   "metadata": {},
   "outputs": [],
   "source": []
  }
 ],
 "metadata": {
  "kernelspec": {
   "display_name": "Python 3 (ipykernel)",
   "language": "python",
   "name": "python3"
  },
  "language_info": {
   "codemirror_mode": {
    "name": "ipython",
    "version": 3
   },
   "file_extension": ".py",
   "mimetype": "text/x-python",
   "name": "python",
   "nbconvert_exporter": "python",
   "pygments_lexer": "ipython3",
   "version": "3.10.2"
  }
 },
 "nbformat": 4,
 "nbformat_minor": 5
}
