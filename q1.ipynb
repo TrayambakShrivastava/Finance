{
 "cells": [
  {
   "cell_type": "code",
   "execution_count": 1,
   "id": "4db1b539-3aad-4f16-bfb9-1c8ed1f29789",
   "metadata": {},
   "outputs": [
    {
     "name": "stdout",
     "output_type": "stream",
     "text": [
      "\n",
      "\n",
      "for 10\n",
      "expectation per toss=  1.1 variance =  0.5399999999999998\n",
      "expectation for total tosses =  11.0\n",
      "\n",
      "\n",
      "for 20\n",
      "expectation per toss=  1.4 variance =  0.5400000000000003\n",
      "expectation for total tosses =  28.0\n",
      "\n",
      "\n",
      "for 400\n",
      "expectation per toss=  1.28375 variance =  0.5613609374999997\n",
      "expectation for total tosses =  513.5\n",
      "\n",
      "\n",
      "for 10000\n",
      "expectation per toss=  1.25855 variance =  0.5624268975000002\n",
      "expectation for total tosses =  12585.5\n",
      "\n",
      "\n",
      "for 100000\n",
      "expectation per toss=  1.249535 variance =  0.5624997837749999\n",
      "expectation for total tosses =  124953.5\n"
     ]
    }
   ],
   "source": [
    "import random\n",
    "import math\n",
    "def toss_the_coin_expectation(n_simulations):\n",
    "\tcount_head = 0\n",
    "\n",
    "\tfor i in range(n_simulations):\n",
    "\t\t# discrete rv x heads= 1 tails = 2 \n",
    "\t\tcoin_value = random.randint(1,2)\n",
    "\t\tif coin_value == 1:\n",
    "\t\t\tcount_head = count_head + 1\n",
    "\tcount_tail = n_simulations - count_head\n",
    "\tprob_head = count_head/n_simulations\n",
    "\tprob_tail = count_tail/n_simulations\n",
    "\t# defining a function for money at the end H(x) in which H(1) = 2 (i.e person ends with 2$ if heads) and H(2) = 0.5 $ and computing E(H(x)) and E(H(x)^2)  \n",
    "\texpected_value = prob_head*2 + prob_tail*(0.5) \n",
    "\texpected_of_value_squared = prob_head*4 + prob_tail*(0.25)\n",
    "\t#V(x) = E(H(x))^2 - E(H(X)^2)\n",
    "\tvariance = expected_of_value_squared - (expected_value*expected_value)\n",
    "\tprint(\"expectation per toss= \" , expected_value , \"variance per toss= \" , variance )\n",
    "\treturn expected_value\n",
    "    #for all calculations below the event is assumed to be flipping the coin just once\n",
    "    \n",
    "\n",
    "\n",
    "n = [10 , 20 , 400 , 10000 , 100000]\n",
    "for i in range(5):\n",
    "\tprint(\"\\n\")\n",
    "\tprint(\"for\" , n[i] )\n",
    "\tvaluepertoss = toss_the_coin_expectation(int(n[i]))\n",
    "\tprint(\"expectation for total tosses = \" , valuepertoss*n[i])\n",
    "\tprint(\"variance for all tosses =\" , valuepertoss*(math.sqrt(n[i])))"
   ]
  },
  {
   "cell_type": "code",
   "execution_count": null,
   "id": "6b39db43-373b-4051-981c-6e25435dbaf6",
   "metadata": {},
   "outputs": [],
   "source": []
  }
 ],
 "metadata": {
  "kernelspec": {
   "display_name": "Python 3 (ipykernel)",
   "language": "python",
   "name": "python3"
  },
  "language_info": {
   "codemirror_mode": {
    "name": "ipython",
    "version": 3
   },
   "file_extension": ".py",
   "mimetype": "text/x-python",
   "name": "python",
   "nbconvert_exporter": "python",
   "pygments_lexer": "ipython3",
   "version": "3.10.2"
  }
 },
 "nbformat": 4,
 "nbformat_minor": 5
}
